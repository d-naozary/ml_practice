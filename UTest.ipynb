{
 "cells": [
  {
   "cell_type": "code",
   "execution_count": 1,
   "id": "6360a385-3043-4309-b365-002901f3bc88",
   "metadata": {},
   "outputs": [],
   "source": [
    "from scipy import stats"
   ]
  },
  {
   "cell_type": "code",
   "execution_count": 3,
   "id": "a4e7bc4e-47ec-4f45-8cee-98859b82da49",
   "metadata": {},
   "outputs": [],
   "source": [
    "g1 = [20, 23, 21, 25, 18, 17, 18, 24, 20, 24, 23, 19]\n",
    "g2 = [24, 25, 21, 22, 23, 18, 17, 28, 24, 27, 21, 23]"
   ]
  },
  {
   "cell_type": "code",
   "execution_count": 7,
   "id": "cb94357a-265b-4283-9ecc-c3c8242db14e",
   "metadata": {},
   "outputs": [
    {
     "data": {
      "text/plain": [
       "MannwhitneyuResult(statistic=50.0, pvalue=0.21138945901258455)"
      ]
     },
     "execution_count": 7,
     "metadata": {},
     "output_type": "execute_result"
    }
   ],
   "source": [
    "stats.mannwhitneyu(g1, g2, alternative=\"two-sided\")"
   ]
  },
  {
   "cell_type": "code",
   "execution_count": 9,
   "id": "d579d092-28cb-4d9a-8032-941b19f711c8",
   "metadata": {},
   "outputs": [
    {
     "data": {
      "text/plain": [
       "MannwhitneyuResult(statistic=50.0, pvalue=0.10569472950629227)"
      ]
     },
     "execution_count": 9,
     "metadata": {},
     "output_type": "execute_result"
    }
   ],
   "source": [
    "stats.mannwhitneyu(g1, g2, alternative=\"less\")"
   ]
  },
  {
   "cell_type": "code",
   "execution_count": 11,
   "id": "5716fce9-bff6-4ea1-b5d5-9116bf4d4519",
   "metadata": {},
   "outputs": [
    {
     "data": {
      "text/plain": [
       "MannwhitneyuResult(statistic=50.0, pvalue=0.9045433311864579)"
      ]
     },
     "execution_count": 11,
     "metadata": {},
     "output_type": "execute_result"
    }
   ],
   "source": [
    "stats.mannwhitneyu(g1, g2, alternative=\"greater\")"
   ]
  }
 ],
 "metadata": {
  "kernelspec": {
   "display_name": "Python 3 (ipykernel)",
   "language": "python",
   "name": "python3"
  },
  "language_info": {
   "codemirror_mode": {
    "name": "ipython",
    "version": 3
   },
   "file_extension": ".py",
   "mimetype": "text/x-python",
   "name": "python",
   "nbconvert_exporter": "python",
   "pygments_lexer": "ipython3",
   "version": "3.12.4"
  }
 },
 "nbformat": 4,
 "nbformat_minor": 5
}
