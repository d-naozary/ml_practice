{
 "cells": [
  {
   "cell_type": "code",
   "execution_count": 3,
   "id": "024b6462-0da7-4628-b1e6-d7497b0f9e7f",
   "metadata": {},
   "outputs": [],
   "source": [
    "import numpy as np\n",
    "import pandas as pd\n",
    "import scipy.stats as stats\n",
    "import matplotlib.pyplot as plt\n",
    "import math\n",
    "import pickle"
   ]
  },
  {
   "cell_type": "code",
   "execution_count": 7,
   "id": "ea433c08-2752-4d1e-bcae-7af03269e870",
   "metadata": {},
   "outputs": [
    {
     "data": {
      "text/html": [
       "<div>\n",
       "<style scoped>\n",
       "    .dataframe tbody tr th:only-of-type {\n",
       "        vertical-align: middle;\n",
       "    }\n",
       "\n",
       "    .dataframe tbody tr th {\n",
       "        vertical-align: top;\n",
       "    }\n",
       "\n",
       "    .dataframe thead th {\n",
       "        text-align: right;\n",
       "    }\n",
       "</style>\n",
       "<table border=\"1\" class=\"dataframe\">\n",
       "  <thead>\n",
       "    <tr style=\"text-align: right;\">\n",
       "      <th></th>\n",
       "      <th>tree_number</th>\n",
       "      <th>oranges</th>\n",
       "    </tr>\n",
       "  </thead>\n",
       "  <tbody>\n",
       "    <tr>\n",
       "      <th>0</th>\n",
       "      <td>1223</td>\n",
       "      <td>305.470796</td>\n",
       "    </tr>\n",
       "    <tr>\n",
       "      <th>1</th>\n",
       "      <td>1224</td>\n",
       "      <td>208.357224</td>\n",
       "    </tr>\n",
       "    <tr>\n",
       "      <th>2</th>\n",
       "      <td>1225</td>\n",
       "      <td>318.145987</td>\n",
       "    </tr>\n",
       "    <tr>\n",
       "      <th>3</th>\n",
       "      <td>1226</td>\n",
       "      <td>274.531146</td>\n",
       "    </tr>\n",
       "    <tr>\n",
       "      <th>4</th>\n",
       "      <td>1227</td>\n",
       "      <td>245.627474</td>\n",
       "    </tr>\n",
       "  </tbody>\n",
       "</table>\n",
       "</div>"
      ],
      "text/plain": [
       "   tree_number     oranges\n",
       "0         1223  305.470796\n",
       "1         1224  208.357224\n",
       "2         1225  318.145987\n",
       "3         1226  274.531146\n",
       "4         1227  245.627474"
      ]
     },
     "execution_count": 7,
     "metadata": {},
     "output_type": "execute_result"
    }
   ],
   "source": [
    "df = pd.read_csv(\"datasets/orange_trees.csv\")\n",
    "df.head()"
   ]
  },
  {
   "cell_type": "code",
   "execution_count": 9,
   "id": "bea8d9c6-7f11-4619-9b4d-8a01ab380699",
   "metadata": {},
   "outputs": [
    {
     "data": {
      "text/html": [
       "<div>\n",
       "<style scoped>\n",
       "    .dataframe tbody tr th:only-of-type {\n",
       "        vertical-align: middle;\n",
       "    }\n",
       "\n",
       "    .dataframe tbody tr th {\n",
       "        vertical-align: top;\n",
       "    }\n",
       "\n",
       "    .dataframe thead th {\n",
       "        text-align: right;\n",
       "    }\n",
       "</style>\n",
       "<table border=\"1\" class=\"dataframe\">\n",
       "  <thead>\n",
       "    <tr style=\"text-align: right;\">\n",
       "      <th></th>\n",
       "      <th>tree_number</th>\n",
       "      <th>oranges</th>\n",
       "    </tr>\n",
       "  </thead>\n",
       "  <tbody>\n",
       "    <tr>\n",
       "      <th>count</th>\n",
       "      <td>133.00000</td>\n",
       "      <td>133.000000</td>\n",
       "    </tr>\n",
       "    <tr>\n",
       "      <th>mean</th>\n",
       "      <td>1289.00000</td>\n",
       "      <td>277.852803</td>\n",
       "    </tr>\n",
       "    <tr>\n",
       "      <th>std</th>\n",
       "      <td>38.53786</td>\n",
       "      <td>50.922243</td>\n",
       "    </tr>\n",
       "    <tr>\n",
       "      <th>min</th>\n",
       "      <td>1223.00000</td>\n",
       "      <td>137.023145</td>\n",
       "    </tr>\n",
       "    <tr>\n",
       "      <th>25%</th>\n",
       "      <td>1256.00000</td>\n",
       "      <td>237.696112</td>\n",
       "    </tr>\n",
       "    <tr>\n",
       "      <th>50%</th>\n",
       "      <td>1289.00000</td>\n",
       "      <td>279.470482</td>\n",
       "    </tr>\n",
       "    <tr>\n",
       "      <th>75%</th>\n",
       "      <td>1322.00000</td>\n",
       "      <td>312.079787</td>\n",
       "    </tr>\n",
       "    <tr>\n",
       "      <th>max</th>\n",
       "      <td>1355.00000</td>\n",
       "      <td>434.025714</td>\n",
       "    </tr>\n",
       "  </tbody>\n",
       "</table>\n",
       "</div>"
      ],
      "text/plain": [
       "       tree_number     oranges\n",
       "count    133.00000  133.000000\n",
       "mean    1289.00000  277.852803\n",
       "std       38.53786   50.922243\n",
       "min     1223.00000  137.023145\n",
       "25%     1256.00000  237.696112\n",
       "50%     1289.00000  279.470482\n",
       "75%     1322.00000  312.079787\n",
       "max     1355.00000  434.025714"
      ]
     },
     "execution_count": 9,
     "metadata": {},
     "output_type": "execute_result"
    }
   ],
   "source": [
    "df.describe()"
   ]
  },
  {
   "cell_type": "code",
   "execution_count": 13,
   "id": "4e1c8a93-b896-402c-bf15-6f0c2a217ac2",
   "metadata": {},
   "outputs": [],
   "source": [
    "population_mean = 271.93"
   ]
  },
  {
   "cell_type": "code",
   "execution_count": 47,
   "id": "c0e1ea2a-4d0c-4de5-808b-359954e5d643",
   "metadata": {},
   "outputs": [
    {
     "data": {
      "text/plain": [
       "TtestResult(statistic=1.3413606837344207, pvalue=0.18210666026278088, df=132)"
      ]
     },
     "execution_count": 47,
     "metadata": {},
     "output_type": "execute_result"
    }
   ],
   "source": [
    "stats.ttest_1samp(a=df['oranges'], popmean=population_mean)"
   ]
  },
  {
   "cell_type": "code",
   "execution_count": 49,
   "id": "ca8cee01-376b-4ef0-b10f-0a8f14273ed3",
   "metadata": {
    "scrolled": true
   },
   "outputs": [
    {
     "data": {
      "text/plain": [
       "(array([1., 0., 0., 0., 0., 0., 0., 0., 0., 1., 0., 0., 0., 1., 0., 0., 0.,\n",
       "        0., 1., 2., 1., 1., 0., 1., 1., 2., 1., 2., 2., 1., 4., 4., 5., 4.,\n",
       "        1., 3., 4., 1., 1., 1., 0., 3., 1., 2., 6., 4., 2., 3., 6., 5., 3.,\n",
       "        2., 1., 3., 3., 2., 3., 3., 2., 5., 4., 0., 3., 1., 1., 0., 3., 1.,\n",
       "        2., 2., 1., 0., 1., 1., 1., 1., 0., 0., 1., 0., 0., 1., 0., 0., 0.,\n",
       "        1., 0., 0., 1., 1., 0., 0., 0., 0., 0., 0., 0., 0., 0., 1.]),\n",
       " array([137.02314467, 139.99317036, 142.96319605, 145.93322175,\n",
       "        148.90324744, 151.87327314, 154.84329883, 157.81332452,\n",
       "        160.78335022, 163.75337591, 166.72340161, 169.6934273 ,\n",
       "        172.66345299, 175.63347869, 178.60350438, 181.57353008,\n",
       "        184.54355577, 187.51358147, 190.48360716, 193.45363285,\n",
       "        196.42365855, 199.39368424, 202.36370994, 205.33373563,\n",
       "        208.30376132, 211.27378702, 214.24381271, 217.21383841,\n",
       "        220.1838641 , 223.1538898 , 226.12391549, 229.09394118,\n",
       "        232.06396688, 235.03399257, 238.00401827, 240.97404396,\n",
       "        243.94406965, 246.91409535, 249.88412104, 252.85414674,\n",
       "        255.82417243, 258.79419812, 261.76422382, 264.73424951,\n",
       "        267.70427521, 270.6743009 , 273.6443266 , 276.61435229,\n",
       "        279.58437798, 282.55440368, 285.52442937, 288.49445507,\n",
       "        291.46448076, 294.43450645, 297.40453215, 300.37455784,\n",
       "        303.34458354, 306.31460923, 309.28463493, 312.25466062,\n",
       "        315.22468631, 318.19471201, 321.1647377 , 324.1347634 ,\n",
       "        327.10478909, 330.07481478, 333.04484048, 336.01486617,\n",
       "        338.98489187, 341.95491756, 344.92494325, 347.89496895,\n",
       "        350.86499464, 353.83502034, 356.80504603, 359.77507173,\n",
       "        362.74509742, 365.71512311, 368.68514881, 371.6551745 ,\n",
       "        374.6252002 , 377.59522589, 380.56525158, 383.53527728,\n",
       "        386.50530297, 389.47532867, 392.44535436, 395.41538006,\n",
       "        398.38540575, 401.35543144, 404.32545714, 407.29548283,\n",
       "        410.26550853, 413.23553422, 416.20555991, 419.17558561,\n",
       "        422.1456113 , 425.115637  , 428.08566269, 431.05568838,\n",
       "        434.02571408]),\n",
       " <BarContainer object of 100 artists>)"
      ]
     },
     "execution_count": 49,
     "metadata": {},
     "output_type": "execute_result"
    },
    {
     "data": {
      "image/png": "[encoded data removed]",
      "text/plain": [
       "<Figure size 640x480 with 1 Axes>"
      ]
     },
     "metadata": {},
     "output_type": "display_data"
    }
   ],
   "source": [
    "plt.hist(df['oranges'], bins=100)"
   ]
  },
  {
   "cell_type": "code",
   "execution_count": 45,
   "id": "c17736e0-52ed-47ba-b5a4-add23791995b",
   "metadata": {
    "scrolled": true
   },
   "outputs": [
    {
     "data": {
      "text/plain": [
       "(array([ 3.,  1.,  1.,  1.,  2.,  5.,  3.,  1.,  5.,  3.,  3.,  8.,  3.,\n",
       "         0.,  2.,  3.,  6.,  6.,  3., 10.,  4.,  7.,  9., 10., 11., 15.,\n",
       "         5.,  9.,  8., 23., 13., 13., 18., 20., 14., 18., 12., 10., 22.,\n",
       "        21., 18., 22., 29., 24., 29., 31., 16., 15., 18., 29., 12., 27.,\n",
       "        17., 11., 17., 15., 27., 20., 10., 17., 11., 20., 17., 17., 15.,\n",
       "        11., 20., 15., 10.,  8., 10., 12.,  8., 12.,  7., 10.,  5.,  3.,\n",
       "         6.,  3.,  3.,  2.,  7.,  4.,  3.,  3.,  3.,  0.,  3.,  0.,  2.,\n",
       "         3.,  1.,  3.,  1.,  0.,  1.,  2.,  1.,  3.]),\n",
       " array([275.31844563, 275.3714119 , 275.42437816, 275.47734443,\n",
       "        275.53031069, 275.58327696, 275.63624322, 275.68920948,\n",
       "        275.74217575, 275.79514201, 275.84810828, 275.90107454,\n",
       "        275.95404081, 276.00700707, 276.05997334, 276.1129396 ,\n",
       "        276.16590586, 276.21887213, 276.27183839, 276.32480466,\n",
       "        276.37777092, 276.43073719, 276.48370345, 276.53666972,\n",
       "        276.58963598, 276.64260224, 276.69556851, 276.74853477,\n",
       "        276.80150104, 276.8544673 , 276.90743357, 276.96039983,\n",
       "        277.0133661 , 277.06633236, 277.11929863, 277.17226489,\n",
       "        277.22523115, 277.27819742, 277.33116368, 277.38412995,\n",
       "        277.43709621, 277.49006248, 277.54302874, 277.59599501,\n",
       "        277.64896127, 277.70192753, 277.7548938 , 277.80786006,\n",
       "        277.86082633, 277.91379259, 277.96675886, 278.01972512,\n",
       "        278.07269139, 278.12565765, 278.17862391, 278.23159018,\n",
       "        278.28455644, 278.33752271, 278.39048897, 278.44345524,\n",
       "        278.4964215 , 278.54938777, 278.60235403, 278.65532029,\n",
       "        278.70828656, 278.76125282, 278.81421909, 278.86718535,\n",
       "        278.92015162, 278.97311788, 279.02608415, 279.07905041,\n",
       "        279.13201667, 279.18498294, 279.2379492 , 279.29091547,\n",
       "        279.34388173, 279.396848  , 279.44981426, 279.50278053,\n",
       "        279.55574679, 279.60871306, 279.66167932, 279.71464558,\n",
       "        279.76761185, 279.82057811, 279.87354438, 279.92651064,\n",
       "        279.97947691, 280.03244317, 280.08540944, 280.1383757 ,\n",
       "        280.19134196, 280.24430823, 280.29727449, 280.35024076,\n",
       "        280.40320702, 280.45617329, 280.50913955, 280.56210582,\n",
       "        280.61507208]),\n",
       " <BarContainer object of 100 artists>)"
      ]
     },
     "execution_count": 45,
     "metadata": {},
     "output_type": "execute_result"
    },
    {
     "data": {
      "image/png": "[encoded data removed]",
      "text/plain": [
       "<Figure size 640x480 with 1 Axes>"
      ]
     },
     "metadata": {},
     "output_type": "display_data"
    }
   ],
   "source": [
    "normal_dist = np.random.normal(df['oranges'].mean(), 1, 1000)\n",
    "plt.hist(normal_dist, bins=100)"
   ]
  },
  {
   "cell_type": "code",
   "execution_count": 55,
   "id": "d64835b1-57b1-4826-a054-55d9c28c17f0",
   "metadata": {},
   "outputs": [
    {
     "data": {
      "text/plain": [
       "TtestResult(statistic=-0.0011995979291363084, pvalue=0.9990430711090292, df=1131.0)"
      ]
     },
     "execution_count": 55,
     "metadata": {},
     "output_type": "execute_result"
    }
   ],
   "source": [
    "stats.ttest_ind(a= df['oranges'], b=normal_dist)"
   ]
  },
  {
   "cell_type": "code",
   "execution_count": null,
   "id": "25d91dcb-cee8-49b2-a666-353624ddd42b",
   "metadata": {},
   "outputs": [],
   "source": []
  }
 ],
 "metadata": {
  "kernelspec": {
   "display_name": "Python 3 (ipykernel)",
   "language": "python",
   "name": "python3"
  },
  "language_info": {
   "codemirror_mode": {
    "name": "ipython",
    "version": 3
   },
   "file_extension": ".py",
   "mimetype": "text/x-python",
   "name": "python",
   "nbconvert_exporter": "python",
   "pygments_lexer": "ipython3",
   "version": "3.12.4"
  }
 },
 "nbformat": 4,
 "nbformat_minor": 5
}
